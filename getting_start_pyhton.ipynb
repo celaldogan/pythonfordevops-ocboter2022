{
  "nbformat": 4,
  "nbformat_minor": 0,
  "metadata": {
    "colab": {
      "provenance": [],
      "toc_visible": true,
      "authorship_tag": "ABX9TyNc/B7dHOcsVShfy6kTV4SE",
      "include_colab_link": true
    },
    "kernelspec": {
      "name": "python3",
      "display_name": "Python 3"
    },
    "language_info": {
      "name": "python"
    }
  },
  "cells": [
    {
      "cell_type": "markdown",
      "metadata": {
        "id": "view-in-github",
        "colab_type": "text"
      },
      "source": [
        "<a href=\"https://colab.research.google.com/github/celaldogan/pythonfordevops-ocboter2022/blob/main/getting_start_pyhton.ipynb\" target=\"_parent\"><img src=\"https://colab.research.google.com/assets/colab-badge.svg\" alt=\"Open In Colab\"/></a>"
      ]
    },
    {
      "cell_type": "code",
      "execution_count": null,
      "metadata": {
        "id": "AAMsdm1kZ4Gf"
      },
      "outputs": [],
      "source": []
    },
    {
      "cell_type": "markdown",
      "source": [
        "## Introduction to pyhton\n"
      ],
      "metadata": {
        "id": "Z8ruhv5C9Ac_"
      }
    },
    {
      "cell_type": "markdown",
      "source": [
        "### Statement of python\n"
      ],
      "metadata": {
        "id": "KNIw-PmA9cHJ"
      }
    },
    {
      "cell_type": "code",
      "source": [
        "print(\"hello world\")\n",
        "name = \"bob\"\n",
        "print(f\"hello {name}\")"
      ],
      "metadata": {
        "colab": {
          "base_uri": "https://localhost:8080/"
        },
        "id": "nQDVPKR791cV",
        "outputId": "ba8b44a8-71e9-4384-98b3-46ecedc2779e"
      },
      "execution_count": 7,
      "outputs": [
        {
          "output_type": "stream",
          "name": "stdout",
          "text": [
            "hello world\n",
            "hello bob\n"
          ]
        }
      ]
    },
    {
      "cell_type": "markdown",
      "source": [
        "### Datastructures: List and Dictionary\n",
        "#### List"
      ],
      "metadata": {
        "id": "V1O7lNMg_FTI"
      }
    },
    {
      "cell_type": "code",
      "source": [
        "fruits = [\"apple\",\"pear\",\"strawberry\"]\n",
        "type(\"apple\")\n",
        "type(fruits)\n",
        "fruits[0]\n",
        "fruits[:-1]\n",
        "for my_fruits in fruits:\n",
        "  print(f\"my favorite fruit is {my_fruits}\")"
      ],
      "metadata": {
        "colab": {
          "base_uri": "https://localhost:8080/"
        },
        "id": "Xy51taaN_Qi3",
        "outputId": "8c4bf33a-0164-4563-c36d-b834320b629c"
      },
      "execution_count": 13,
      "outputs": [
        {
          "output_type": "stream",
          "name": "stdout",
          "text": [
            "my favorite fruit is apple\n",
            "my favorite fruit is pear\n",
            "my favorite fruit is strawberry\n"
          ]
        }
      ]
    },
    {
      "cell_type": "markdown",
      "source": [
        "#### Dictionary\n"
      ],
      "metadata": {
        "id": "fmD7ASKEAtXu"
      }
    },
    {
      "cell_type": "code",
      "source": [
        "meals= {\"for breakfast\":\"black coffe\",\"for lunch\":\"salat\",\"for dinner\":\"steak\"}\n",
        "meals.keys()\n",
        "meals.values()\n",
        "for meal_name, meal_item in meals.items():\n",
        "  print(f\"this is measl{meal_name} what i want consume is {meal_item}\")"
      ],
      "metadata": {
        "colab": {
          "base_uri": "https://localhost:8080/"
        },
        "id": "iubvEkVDAzUy",
        "outputId": "dcd1008b-75fb-4b7a-d3ab-78aea02cc440"
      },
      "execution_count": 22,
      "outputs": [
        {
          "output_type": "stream",
          "name": "stdout",
          "text": [
            "this is measlfor breakfast what i want consume is black coffe\n",
            "this is measlfor lunch what i want consume is salat\n",
            "this is measlfor dinner what i want consume is steak\n"
          ]
        }
      ]
    }
  ]
}